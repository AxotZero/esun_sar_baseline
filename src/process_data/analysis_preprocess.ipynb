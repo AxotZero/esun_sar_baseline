{
 "cells": [
  {
   "cell_type": "markdown",
   "metadata": {},
   "source": [
    "## Read File"
   ]
  },
  {
   "cell_type": "code",
   "execution_count": 1,
   "metadata": {},
   "outputs": [
    {
     "name": "stderr",
     "output_type": "stream",
     "text": [
      "/media/hd03/axot_data/.local/lib/python3.6/site-packages/tqdm/auto.py:22: TqdmWarning: IProgress not found. Please update jupyter and ipywidgets. See https://ipywidgets.readthedocs.io/en/stable/user_install.html\n",
      "  from .autonotebook import tqdm as notebook_tqdm\n"
     ]
    }
   ],
   "source": [
    "import pandas as pd\n",
    "from pandas_profiling import ProfileReport\n",
    "\n",
    "\n",
    "TRAIN_DIR = 'train_first'\n",
    "\n",
    "CCBA_PATH = 'train_first/public_train_x_ccba_full_hashed.csv'\n",
    "CDTX_PATH = 'train_first/public_train_x_cdtx0001_full_hashed.csv'\n",
    "CUSTINFO_PATH = 'train_first/public_train_x_custinfo_full_hashed.csv'\n",
    "DP_PATH = 'train_first/public_train_x_dp_full_hashed.csv'\n",
    "REMIT_PATH = 'train_first/public_train_x_remit1_full_hashed.csv'\n",
    "PDATE_PATH = 'train_first/public_x_alert_date.csv'\n",
    "TDATE_PATH = 'train_first/train_x_alert_date.csv'\n",
    "ANSWER_PATH = 'train_first/train_y_answer.csv'\n",
    "SAMPLE_PATH = './sample_submission.csv'\n",
    "\n",
    "\n",
    "ccba = pd.read_csv(CCBA_PATH)\n",
    "cdtx = pd.read_csv(CDTX_PATH)\n",
    "cinfo = pd.read_csv(CUSTINFO_PATH)\n",
    "dp = pd.read_csv(DP_PATH)\n",
    "remit = pd.read_csv(REMIT_PATH)\n",
    "pdate = pd.read_csv(PDATE_PATH)\n",
    "tdate = pd.read_csv(TDATE_PATH)\n",
    "answer = pd.read_csv(ANSWER_PATH)\n",
    "sample = pd.read_csv(SAMPLE_PATH)"
   ]
  },
  {
   "cell_type": "markdown",
   "metadata": {},
   "source": [
    "## Generate Report"
   ]
  },
  {
   "cell_type": "code",
   "execution_count": 2,
   "metadata": {},
   "outputs": [
    {
     "name": "stdout",
     "output_type": "stream",
     "text": [
      "ccba: (59075, 10)\n"
     ]
    },
    {
     "name": "stderr",
     "output_type": "stream",
     "text": [
      "Summarize dataset: 100%|██████████| 16/16 [00:00<00:00, 36.66it/s, Completed]               \n",
      "Generate report structure: 100%|██████████| 1/1 [00:05<00:00,  5.11s/it]\n",
      "Render HTML: 100%|██████████| 1/1 [00:01<00:00,  1.44s/it]\n",
      "Export report to file: 100%|██████████| 1/1 [00:00<00:00, 21.17it/s]\n"
     ]
    },
    {
     "name": "stdout",
     "output_type": "stream",
     "text": [
      "cdtx: (1043014, 5)\n"
     ]
    },
    {
     "name": "stderr",
     "output_type": "stream",
     "text": [
      "Summarize dataset: 100%|██████████| 11/11 [00:02<00:00,  4.50it/s, Completed]                \n",
      "Generate report structure: 100%|██████████| 1/1 [00:03<00:00,  3.62s/it]\n",
      "Render HTML: 100%|██████████| 1/1 [00:00<00:00,  2.35it/s]\n",
      "Export report to file: 100%|██████████| 1/1 [00:00<00:00, 450.81it/s]\n"
     ]
    },
    {
     "name": "stdout",
     "output_type": "stream",
     "text": [
      "custinfo: (25751, 6)\n"
     ]
    },
    {
     "name": "stderr",
     "output_type": "stream",
     "text": [
      "Summarize dataset: 100%|██████████| 12/12 [00:00<00:00, 22.40it/s, Completed]                       \n",
      "Generate report structure: 100%|██████████| 1/1 [00:03<00:00,  3.66s/it]\n",
      "Render HTML: 100%|██████████| 1/1 [00:00<00:00,  3.50it/s]\n",
      "Export report to file: 100%|██████████| 1/1 [00:00<00:00, 240.89it/s]\n"
     ]
    },
    {
     "name": "stdout",
     "output_type": "stream",
     "text": [
      "dp: (1969818, 12)\n"
     ]
    },
    {
     "name": "stderr",
     "output_type": "stream",
     "text": [
      "Summarize dataset: 100%|██████████| 18/18 [00:09<00:00,  1.82it/s, Completed]                       \n",
      "Generate report structure: 100%|██████████| 1/1 [00:09<00:00,  9.57s/it]\n",
      "Render HTML: 100%|██████████| 1/1 [00:00<00:00,  1.31it/s]\n",
      "Export report to file: 100%|██████████| 1/1 [00:00<00:00, 179.59it/s]\n"
     ]
    },
    {
     "name": "stdout",
     "output_type": "stream",
     "text": [
      "remit: (17167, 4)\n"
     ]
    },
    {
     "name": "stderr",
     "output_type": "stream",
     "text": [
      "Summarize dataset: 100%|██████████| 10/10 [00:00<00:00, 29.24it/s, Completed]                       \n",
      "Generate report structure: 100%|██████████| 1/1 [00:02<00:00,  2.15s/it]\n",
      "Render HTML: 100%|██████████| 1/1 [00:00<00:00,  5.22it/s]\n",
      "Export report to file: 100%|██████████| 1/1 [00:00<00:00, 701.04it/s]\n"
     ]
    },
    {
     "name": "stdout",
     "output_type": "stream",
     "text": [
      "pdate: (1845, 2)\n"
     ]
    },
    {
     "name": "stderr",
     "output_type": "stream",
     "text": [
      "Summarize dataset: 100%|██████████| 8/8 [00:00<00:00, 61.79it/s, Completed]                  \n",
      "Generate report structure: 100%|██████████| 1/1 [00:01<00:00,  1.85s/it]\n",
      "Render HTML: 100%|██████████| 1/1 [00:00<00:00,  2.69it/s]\n",
      "Export report to file: 100%|██████████| 1/1 [00:00<00:00, 505.89it/s]\n"
     ]
    },
    {
     "name": "stdout",
     "output_type": "stream",
     "text": [
      "tdate: (23906, 2)\n"
     ]
    },
    {
     "name": "stderr",
     "output_type": "stream",
     "text": [
      "Summarize dataset: 100%|██████████| 8/8 [00:00<00:00, 52.10it/s, Completed]                  \n",
      "Generate report structure: 100%|██████████| 1/1 [00:01<00:00,  1.92s/it]\n",
      "Render HTML: 100%|██████████| 1/1 [00:00<00:00,  5.08it/s]\n",
      "Export report to file: 100%|██████████| 1/1 [00:00<00:00, 789.59it/s]\n"
     ]
    },
    {
     "name": "stdout",
     "output_type": "stream",
     "text": [
      "answer: (23906, 2)\n"
     ]
    },
    {
     "name": "stderr",
     "output_type": "stream",
     "text": [
      "Summarize dataset: 100%|██████████| 8/8 [00:00<00:00, 62.31it/s, Completed]                  \n",
      "Generate report structure: 100%|██████████| 1/1 [00:00<00:00,  1.15it/s]\n",
      "Render HTML: 100%|██████████| 1/1 [00:00<00:00, 14.70it/s]\n",
      "Export report to file: 100%|██████████| 1/1 [00:00<00:00, 1164.44it/s]\n"
     ]
    },
    {
     "name": "stdout",
     "output_type": "stream",
     "text": [
      "sample: (3850, 2)\n"
     ]
    },
    {
     "name": "stderr",
     "output_type": "stream",
     "text": [
      "Summarize dataset: 100%|██████████| 8/8 [00:00<00:00, 66.94it/s, Completed]                    \n",
      "Generate report structure: 100%|██████████| 1/1 [00:00<00:00,  1.05it/s]\n",
      "Render HTML: 100%|██████████| 1/1 [00:00<00:00, 11.47it/s]\n",
      "Export report to file: 100%|██████████| 1/1 [00:00<00:00, 886.93it/s]\n"
     ]
    }
   ],
   "source": [
    "names = ['ccba', 'cdtx', 'custinfo', 'dp', 'remit', 'pdate', 'tdate', 'answer', 'sample']\n",
    "datas = [ccba, cdtx, cinfo, dp, remit, pdate, tdate, answer, sample]\n",
    "num_files = len(datas)\n",
    "\n",
    "for i in range(num_files):\n",
    "    print(f'{names[i]}: {datas[i].shape}')\n",
    "    profile = ProfileReport(datas[i], minimal=True, title=names[i])\n",
    "    profile.to_file(f'./data_report/{names[i]}.html', )"
   ]
  },
  {
   "cell_type": "markdown",
   "metadata": {},
   "source": [
    "## Preprocess"
   ]
  },
  {
   "cell_type": "code",
   "execution_count": 3,
   "metadata": {},
   "outputs": [],
   "source": [
    "\n",
    "import pickle\n",
    "\n",
    "from sklearn.preprocessing import QuantileTransformer\n",
    "import numpy as np\n",
    "from easydict import EasyDict as edict\n",
    "import pandas as pd\n",
    "\n",
    "from data_config import (DataSource, FeatureType,\n",
    "                         CCBAConfig, CDTXConfig, DPConfig, REMITConfig, CUSTINFOConfig,\n",
    "                         CONFIG_MAP)\n",
    "from utils import load_yaml, save_yaml, save_pickle, load_pickle\n",
    "from tqdm import tqdm"
   ]
  },
  {
   "cell_type": "markdown",
   "metadata": {},
   "source": [
    "### Map Date and target to `custinfo`"
   ]
  },
  {
   "cell_type": "code",
   "execution_count": 4,
   "metadata": {},
   "outputs": [
    {
     "data": {
      "text/html": [
       "<div>\n",
       "<style scoped>\n",
       "    .dataframe tbody tr th:only-of-type {\n",
       "        vertical-align: middle;\n",
       "    }\n",
       "\n",
       "    .dataframe tbody tr th {\n",
       "        vertical-align: top;\n",
       "    }\n",
       "\n",
       "    .dataframe thead th {\n",
       "        text-align: right;\n",
       "    }\n",
       "</style>\n",
       "<table border=\"1\" class=\"dataframe\">\n",
       "  <thead>\n",
       "    <tr style=\"text-align: right;\">\n",
       "      <th></th>\n",
       "      <th>alert_key</th>\n",
       "      <th>cust_id</th>\n",
       "      <th>risk_rank</th>\n",
       "      <th>occupation_code</th>\n",
       "      <th>total_asset</th>\n",
       "      <th>AGE</th>\n",
       "      <th>date</th>\n",
       "      <th>sar_flag</th>\n",
       "    </tr>\n",
       "  </thead>\n",
       "  <tbody>\n",
       "    <tr>\n",
       "      <th>0</th>\n",
       "      <td>352249</td>\n",
       "      <td>82595ac69158ae08d34156784bdec0d9e2ca5b242b6d2a...</td>\n",
       "      <td>1</td>\n",
       "      <td>19.0</td>\n",
       "      <td>1465816.0</td>\n",
       "      <td>7</td>\n",
       "      <td>365</td>\n",
       "      <td>NaN</td>\n",
       "    </tr>\n",
       "    <tr>\n",
       "      <th>1</th>\n",
       "      <td>352253</td>\n",
       "      <td>b212d14cb35676926682b2cf849e295d948888f556c07e...</td>\n",
       "      <td>1</td>\n",
       "      <td>2.0</td>\n",
       "      <td>98177.0</td>\n",
       "      <td>2</td>\n",
       "      <td>365</td>\n",
       "      <td>NaN</td>\n",
       "    </tr>\n",
       "    <tr>\n",
       "      <th>2</th>\n",
       "      <td>352254</td>\n",
       "      <td>e5b0002791c7852644a2730abeaa893cdf14a072ef7812...</td>\n",
       "      <td>1</td>\n",
       "      <td>19.0</td>\n",
       "      <td>2052922.0</td>\n",
       "      <td>7</td>\n",
       "      <td>365</td>\n",
       "      <td>NaN</td>\n",
       "    </tr>\n",
       "    <tr>\n",
       "      <th>3</th>\n",
       "      <td>352280</td>\n",
       "      <td>74214c478dc6519fbefe4bc31693865bdcd698ab974b64...</td>\n",
       "      <td>3</td>\n",
       "      <td>15.0</td>\n",
       "      <td>201906.0</td>\n",
       "      <td>5</td>\n",
       "      <td>365</td>\n",
       "      <td>NaN</td>\n",
       "    </tr>\n",
       "    <tr>\n",
       "      <th>4</th>\n",
       "      <td>352282</td>\n",
       "      <td>0340e7611f0d82c3cb87e6194fa14bb2ccf8afbf1b3418...</td>\n",
       "      <td>1</td>\n",
       "      <td>12.0</td>\n",
       "      <td>7450.0</td>\n",
       "      <td>5</td>\n",
       "      <td>365</td>\n",
       "      <td>NaN</td>\n",
       "    </tr>\n",
       "    <tr>\n",
       "      <th>...</th>\n",
       "      <td>...</td>\n",
       "      <td>...</td>\n",
       "      <td>...</td>\n",
       "      <td>...</td>\n",
       "      <td>...</td>\n",
       "      <td>...</td>\n",
       "      <td>...</td>\n",
       "      <td>...</td>\n",
       "    </tr>\n",
       "    <tr>\n",
       "      <th>25746</th>\n",
       "      <td>352123</td>\n",
       "      <td>b600c0720096c241f5aec16b096c6a353492eee8a5855a...</td>\n",
       "      <td>1</td>\n",
       "      <td>17.0</td>\n",
       "      <td>12207.0</td>\n",
       "      <td>2</td>\n",
       "      <td>364</td>\n",
       "      <td>0.0</td>\n",
       "    </tr>\n",
       "    <tr>\n",
       "      <th>25747</th>\n",
       "      <td>352124</td>\n",
       "      <td>06c5ea5ccda4dfd8839c0dec8646fb3071d2c02883ef8a...</td>\n",
       "      <td>1</td>\n",
       "      <td>17.0</td>\n",
       "      <td>259985.0</td>\n",
       "      <td>4</td>\n",
       "      <td>364</td>\n",
       "      <td>0.0</td>\n",
       "    </tr>\n",
       "    <tr>\n",
       "      <th>25748</th>\n",
       "      <td>352125</td>\n",
       "      <td>0c2dc5fedc3689abf5ff4be14fe8fea8d23d22068297c2...</td>\n",
       "      <td>3</td>\n",
       "      <td>19.0</td>\n",
       "      <td>928963.0</td>\n",
       "      <td>3</td>\n",
       "      <td>364</td>\n",
       "      <td>0.0</td>\n",
       "    </tr>\n",
       "    <tr>\n",
       "      <th>25749</th>\n",
       "      <td>352128</td>\n",
       "      <td>ffe5f2bd86ecfd7d0a0f4c4b76dd5c312649be95eb8b42...</td>\n",
       "      <td>3</td>\n",
       "      <td>19.0</td>\n",
       "      <td>21647.0</td>\n",
       "      <td>4</td>\n",
       "      <td>364</td>\n",
       "      <td>0.0</td>\n",
       "    </tr>\n",
       "    <tr>\n",
       "      <th>25750</th>\n",
       "      <td>352132</td>\n",
       "      <td>c49b33d1fde790ec03584672903f296e486615adfdc989...</td>\n",
       "      <td>1</td>\n",
       "      <td>19.0</td>\n",
       "      <td>3218731.0</td>\n",
       "      <td>3</td>\n",
       "      <td>364</td>\n",
       "      <td>0.0</td>\n",
       "    </tr>\n",
       "  </tbody>\n",
       "</table>\n",
       "<p>25751 rows × 8 columns</p>\n",
       "</div>"
      ],
      "text/plain": [
       "       alert_key                                            cust_id  \\\n",
       "0         352249  82595ac69158ae08d34156784bdec0d9e2ca5b242b6d2a...   \n",
       "1         352253  b212d14cb35676926682b2cf849e295d948888f556c07e...   \n",
       "2         352254  e5b0002791c7852644a2730abeaa893cdf14a072ef7812...   \n",
       "3         352280  74214c478dc6519fbefe4bc31693865bdcd698ab974b64...   \n",
       "4         352282  0340e7611f0d82c3cb87e6194fa14bb2ccf8afbf1b3418...   \n",
       "...          ...                                                ...   \n",
       "25746     352123  b600c0720096c241f5aec16b096c6a353492eee8a5855a...   \n",
       "25747     352124  06c5ea5ccda4dfd8839c0dec8646fb3071d2c02883ef8a...   \n",
       "25748     352125  0c2dc5fedc3689abf5ff4be14fe8fea8d23d22068297c2...   \n",
       "25749     352128  ffe5f2bd86ecfd7d0a0f4c4b76dd5c312649be95eb8b42...   \n",
       "25750     352132  c49b33d1fde790ec03584672903f296e486615adfdc989...   \n",
       "\n",
       "       risk_rank  occupation_code  total_asset  AGE  date  sar_flag  \n",
       "0              1             19.0    1465816.0    7   365       NaN  \n",
       "1              1              2.0      98177.0    2   365       NaN  \n",
       "2              1             19.0    2052922.0    7   365       NaN  \n",
       "3              3             15.0     201906.0    5   365       NaN  \n",
       "4              1             12.0       7450.0    5   365       NaN  \n",
       "...          ...              ...          ...  ...   ...       ...  \n",
       "25746          1             17.0      12207.0    2   364       0.0  \n",
       "25747          1             17.0     259985.0    4   364       0.0  \n",
       "25748          3             19.0     928963.0    3   364       0.0  \n",
       "25749          3             19.0      21647.0    4   364       0.0  \n",
       "25750          1             19.0    3218731.0    3   364       0.0  \n",
       "\n",
       "[25751 rows x 8 columns]"
      ]
     },
     "execution_count": 4,
     "metadata": {},
     "output_type": "execute_result"
    }
   ],
   "source": [
    "date = pd.concat([pdate, tdate], axis=0)\n",
    "cinfo = cinfo.merge(date, on='alert_key', how='left')\n",
    "cinfo = cinfo.merge(answer, on='alert_key', how='left')\n",
    "cinfo"
   ]
  },
  {
   "cell_type": "markdown",
   "metadata": {},
   "source": [
    "### Process Numerical and Categorical"
   ]
  },
  {
   "cell_type": "code",
   "execution_count": 5,
   "metadata": {},
   "outputs": [],
   "source": [
    "def normalize(col):\n",
    "    qt = QuantileTransformer(\n",
    "        n_quantiles=10_000, \n",
    "        random_state=0, \n",
    "        subsample=min(5*10**5, len(col)),\n",
    "        output_distribution='normal'\n",
    "    )\n",
    "    return qt.fit_transform(col)\n",
    "\n",
    "def process_numerical(col):\n",
    "    col = normalize(col)\n",
    "    col = np.nan_to_num(col, nan=0)\n",
    "    return col\n",
    "\n",
    "\n",
    "def process_catgorical(col):\n",
    "    col.fillna('NULL', inplace=True)\n",
    "    map_dict = {v:i for i, v in enumerate(set(col.unique()))}\n",
    "    col = col.map(map_dict)\n",
    "    return col"
   ]
  },
  {
   "cell_type": "code",
   "execution_count": 6,
   "metadata": {},
   "outputs": [],
   "source": [
    "datas = [\n",
    "    (ccba, DataSource.CCBA), \n",
    "    (cdtx, DataSource.CDTX),\n",
    "    (dp, DataSource.DP),\n",
    "    (remit, DataSource.REMIT),\n",
    "    (cinfo, DataSource.CUSTINFO),\n",
    "]\n",
    "\n",
    "num_cat_dict = {}\n",
    "\n",
    "# process numerical and categorical and data_source\n",
    "for data, data_source in datas:\n",
    "    config = CONFIG_MAP[data_source]\n",
    "    cols = data.columns\n",
    "    numericals = []\n",
    "    for col in cols:\n",
    "        feature_type = getattr(config, col)\n",
    "        if feature_type == FeatureType.NUMERICAL and col != 'sar_flag':\n",
    "            numericals.append(col)\n",
    "        elif feature_type == FeatureType.CATEGORICAL:\n",
    "            data[col] = process_catgorical(data[col].copy())\n",
    "            num_cat = data[col].nunique()\n",
    "            if data_source not in num_cat_dict:\n",
    "                num_cat_dict[data_source] = {}\n",
    "            num_cat_dict[data_source][col] = num_cat\n",
    "\n",
    "    if numericals:\n",
    "        data[numericals] = process_numerical(data[numericals].copy())\n",
    "    data['data_source'] = data_source"
   ]
  },
  {
   "cell_type": "code",
   "execution_count": 7,
   "metadata": {},
   "outputs": [],
   "source": [
    "save_yaml(num_cat_dict, 'num_cat_dict.yml')"
   ]
  },
  {
   "cell_type": "code",
   "execution_count": 8,
   "metadata": {},
   "outputs": [],
   "source": [
    "datas = [d[0] for d in datas]"
   ]
  },
  {
   "cell_type": "code",
   "execution_count": 9,
   "metadata": {},
   "outputs": [],
   "source": [
    "datas_g = [d.groupby(by='cust_id') for d in datas]"
   ]
  },
  {
   "cell_type": "code",
   "execution_count": 21,
   "metadata": {},
   "outputs": [
    {
     "name": "stderr",
     "output_type": "stream",
     "text": [
      "100%|██████████| 7708/7708 [03:23<00:00, 37.94it/s] \n"
     ]
    }
   ],
   "source": [
    "def get_date(d):\n",
    "    ds = d.data_source\n",
    "    \n",
    "    if ds == DataSource.CCBA:\n",
    "        date = d.byymm\n",
    "    elif ds == DataSource.CDTX:\n",
    "        date = d.date\n",
    "    elif ds == DataSource.DP:\n",
    "        date = d.tx_date\n",
    "    elif ds == DataSource.REMIT:\n",
    "        date = d.trans_date\n",
    "    elif ds == DataSource.CUSTINFO:\n",
    "        date = d.date\n",
    "    return date, ds\n",
    "\n",
    "\n",
    "cust_ids = cinfo.cust_id.unique()\n",
    "save_data = edict()\n",
    "for cust_id in tqdm(cust_ids):\n",
    "    # get all data from each group\n",
    "    cust_data = []\n",
    "    for d in datas_g:\n",
    "        if not cust_id in d.groups:\n",
    "            continue\n",
    "        cust_data += d.get_group(cust_id).to_dict('records')\n",
    "    for i in range(len(cust_data)):\n",
    "        cust_data[i] = edict(cust_data[i])\n",
    "    \n",
    "    # sort by date\n",
    "    cust_data.sort(key=get_date)\n",
    "    \n",
    "    # generate source list and target_mask\n",
    "    source_list = []\n",
    "    train_mask = []\n",
    "    test_mask = []\n",
    "    for i, c in enumerate(cust_data):\n",
    "        ds = c.data_source\n",
    "        source_list.append(ds)\n",
    "        if ds != DataSource.CUSTINFO:\n",
    "            pass\n",
    "        elif np.isnan(c.sar_flag):\n",
    "            test_mask.append(i)\n",
    "        else:\n",
    "            train_mask.append(i)\n",
    "    \n",
    "    # save data\n",
    "    save_data[cust_id] = edict({\n",
    "        'sources': source_list,\n",
    "        'train_mask': train_mask,\n",
    "        'test_mask': test_mask,\n",
    "        'cust_data': cust_data,\n",
    "    })\n"
   ]
  },
  {
   "cell_type": "markdown",
   "metadata": {},
   "source": [
    "### check num of train_mask, test_mask is correct"
   ]
  },
  {
   "cell_type": "code",
   "execution_count": 22,
   "metadata": {},
   "outputs": [
    {
     "name": "stdout",
     "output_type": "stream",
     "text": [
      "True\n",
      "True\n"
     ]
    }
   ],
   "source": [
    "isna = cinfo.sar_flag.isna()\n",
    "train_num = sum(~isna)\n",
    "test_num = sum(isna)\n",
    "\n",
    "train_num2 = 0\n",
    "test_num2 = 0\n",
    "for v in save_data.values():\n",
    "    train_num2 += len(v.train_mask)\n",
    "    test_num2 += len(v.test_mask)\n",
    "\n",
    "\n",
    "print(train_num == train_num2)\n",
    "print(test_num == test_num2)"
   ]
  },
  {
   "cell_type": "code",
   "execution_count": 26,
   "metadata": {},
   "outputs": [],
   "source": [
    "save_pickle(save_data, 'cust_data.pkl')"
   ]
  },
  {
   "cell_type": "markdown",
   "metadata": {},
   "source": [
    "### lenght distribution"
   ]
  },
  {
   "cell_type": "code",
   "execution_count": 27,
   "metadata": {},
   "outputs": [
    {
     "data": {
      "text/html": [
       "<div>\n",
       "<style scoped>\n",
       "    .dataframe tbody tr th:only-of-type {\n",
       "        vertical-align: middle;\n",
       "    }\n",
       "\n",
       "    .dataframe tbody tr th {\n",
       "        vertical-align: top;\n",
       "    }\n",
       "\n",
       "    .dataframe thead th {\n",
       "        text-align: right;\n",
       "    }\n",
       "</style>\n",
       "<table border=\"1\" class=\"dataframe\">\n",
       "  <thead>\n",
       "    <tr style=\"text-align: right;\">\n",
       "      <th></th>\n",
       "      <th>0</th>\n",
       "    </tr>\n",
       "  </thead>\n",
       "  <tbody>\n",
       "    <tr>\n",
       "      <th>count</th>\n",
       "      <td>7708.000000</td>\n",
       "    </tr>\n",
       "    <tr>\n",
       "      <th>mean</th>\n",
       "      <td>404.102880</td>\n",
       "    </tr>\n",
       "    <tr>\n",
       "      <th>std</th>\n",
       "      <td>2518.273585</td>\n",
       "    </tr>\n",
       "    <tr>\n",
       "      <th>min</th>\n",
       "      <td>1.000000</td>\n",
       "    </tr>\n",
       "    <tr>\n",
       "      <th>25%</th>\n",
       "      <td>29.000000</td>\n",
       "    </tr>\n",
       "    <tr>\n",
       "      <th>50%</th>\n",
       "      <td>138.000000</td>\n",
       "    </tr>\n",
       "    <tr>\n",
       "      <th>75%</th>\n",
       "      <td>399.000000</td>\n",
       "    </tr>\n",
       "    <tr>\n",
       "      <th>90%</th>\n",
       "      <td>848.900000</td>\n",
       "    </tr>\n",
       "    <tr>\n",
       "      <th>95%</th>\n",
       "      <td>1243.650000</td>\n",
       "    </tr>\n",
       "    <tr>\n",
       "      <th>99%</th>\n",
       "      <td>2747.650000</td>\n",
       "    </tr>\n",
       "    <tr>\n",
       "      <th>max</th>\n",
       "      <td>135334.000000</td>\n",
       "    </tr>\n",
       "  </tbody>\n",
       "</table>\n",
       "</div>"
      ],
      "text/plain": [
       "                   0\n",
       "count    7708.000000\n",
       "mean      404.102880\n",
       "std      2518.273585\n",
       "min         1.000000\n",
       "25%        29.000000\n",
       "50%       138.000000\n",
       "75%       399.000000\n",
       "90%       848.900000\n",
       "95%      1243.650000\n",
       "99%      2747.650000\n",
       "max    135334.000000"
      ]
     },
     "execution_count": 27,
     "metadata": {},
     "output_type": "execute_result"
    }
   ],
   "source": [
    "# get len of cust_data of save_data\n",
    "lens = []\n",
    "for k, v in save_data.items():\n",
    "    lens.append(len(v.sources))\n",
    "pd.DataFrame(data=lens, columns=None).describe(percentiles=[.25, .5, .75, .9, .95, .99])"
   ]
  },
  {
   "cell_type": "markdown",
   "metadata": {},
   "source": [
    "### check target_mask distribution"
   ]
  },
  {
   "cell_type": "code",
   "execution_count": 30,
   "metadata": {},
   "outputs": [
    {
     "data": {
      "text/html": [
       "<div>\n",
       "<style scoped>\n",
       "    .dataframe tbody tr th:only-of-type {\n",
       "        vertical-align: middle;\n",
       "    }\n",
       "\n",
       "    .dataframe tbody tr th {\n",
       "        vertical-align: top;\n",
       "    }\n",
       "\n",
       "    .dataframe thead th {\n",
       "        text-align: right;\n",
       "    }\n",
       "</style>\n",
       "<table border=\"1\" class=\"dataframe\">\n",
       "  <thead>\n",
       "    <tr style=\"text-align: right;\">\n",
       "      <th></th>\n",
       "      <th>train</th>\n",
       "    </tr>\n",
       "  </thead>\n",
       "  <tbody>\n",
       "    <tr>\n",
       "      <th>count</th>\n",
       "      <td>23906.000000</td>\n",
       "    </tr>\n",
       "    <tr>\n",
       "      <th>mean</th>\n",
       "      <td>760.282272</td>\n",
       "    </tr>\n",
       "    <tr>\n",
       "      <th>std</th>\n",
       "      <td>3924.260433</td>\n",
       "    </tr>\n",
       "    <tr>\n",
       "      <th>min</th>\n",
       "      <td>0.000000</td>\n",
       "    </tr>\n",
       "    <tr>\n",
       "      <th>0%</th>\n",
       "      <td>0.000000</td>\n",
       "    </tr>\n",
       "    <tr>\n",
       "      <th>10%</th>\n",
       "      <td>7.000000</td>\n",
       "    </tr>\n",
       "    <tr>\n",
       "      <th>20%</th>\n",
       "      <td>30.000000</td>\n",
       "    </tr>\n",
       "    <tr>\n",
       "      <th>30%</th>\n",
       "      <td>69.000000</td>\n",
       "    </tr>\n",
       "    <tr>\n",
       "      <th>40%</th>\n",
       "      <td>121.000000</td>\n",
       "    </tr>\n",
       "    <tr>\n",
       "      <th>50%</th>\n",
       "      <td>196.000000</td>\n",
       "    </tr>\n",
       "    <tr>\n",
       "      <th>60%</th>\n",
       "      <td>296.000000</td>\n",
       "    </tr>\n",
       "    <tr>\n",
       "      <th>70%</th>\n",
       "      <td>449.000000</td>\n",
       "    </tr>\n",
       "    <tr>\n",
       "      <th>80%</th>\n",
       "      <td>680.000000</td>\n",
       "    </tr>\n",
       "    <tr>\n",
       "      <th>90%</th>\n",
       "      <td>1155.000000</td>\n",
       "    </tr>\n",
       "    <tr>\n",
       "      <th>100%</th>\n",
       "      <td>121743.000000</td>\n",
       "    </tr>\n",
       "    <tr>\n",
       "      <th>max</th>\n",
       "      <td>121743.000000</td>\n",
       "    </tr>\n",
       "  </tbody>\n",
       "</table>\n",
       "</div>"
      ],
      "text/plain": [
       "               train\n",
       "count   23906.000000\n",
       "mean      760.282272\n",
       "std      3924.260433\n",
       "min         0.000000\n",
       "0%          0.000000\n",
       "10%         7.000000\n",
       "20%        30.000000\n",
       "30%        69.000000\n",
       "40%       121.000000\n",
       "50%       196.000000\n",
       "60%       296.000000\n",
       "70%       449.000000\n",
       "80%       680.000000\n",
       "90%      1155.000000\n",
       "100%   121743.000000\n",
       "max    121743.000000"
      ]
     },
     "metadata": {},
     "output_type": "display_data"
    },
    {
     "data": {
      "text/html": [
       "<div>\n",
       "<style scoped>\n",
       "    .dataframe tbody tr th:only-of-type {\n",
       "        vertical-align: middle;\n",
       "    }\n",
       "\n",
       "    .dataframe tbody tr th {\n",
       "        vertical-align: top;\n",
       "    }\n",
       "\n",
       "    .dataframe thead th {\n",
       "        text-align: right;\n",
       "    }\n",
       "</style>\n",
       "<table border=\"1\" class=\"dataframe\">\n",
       "  <thead>\n",
       "    <tr style=\"text-align: right;\">\n",
       "      <th></th>\n",
       "      <th>test</th>\n",
       "    </tr>\n",
       "  </thead>\n",
       "  <tbody>\n",
       "    <tr>\n",
       "      <th>count</th>\n",
       "      <td>1845.000000</td>\n",
       "    </tr>\n",
       "    <tr>\n",
       "      <th>mean</th>\n",
       "      <td>1364.484553</td>\n",
       "    </tr>\n",
       "    <tr>\n",
       "      <th>std</th>\n",
       "      <td>8040.953852</td>\n",
       "    </tr>\n",
       "    <tr>\n",
       "      <th>min</th>\n",
       "      <td>0.000000</td>\n",
       "    </tr>\n",
       "    <tr>\n",
       "      <th>0%</th>\n",
       "      <td>0.000000</td>\n",
       "    </tr>\n",
       "    <tr>\n",
       "      <th>10%</th>\n",
       "      <td>49.400000</td>\n",
       "    </tr>\n",
       "    <tr>\n",
       "      <th>20%</th>\n",
       "      <td>104.000000</td>\n",
       "    </tr>\n",
       "    <tr>\n",
       "      <th>30%</th>\n",
       "      <td>179.200000</td>\n",
       "    </tr>\n",
       "    <tr>\n",
       "      <th>40%</th>\n",
       "      <td>276.600000</td>\n",
       "    </tr>\n",
       "    <tr>\n",
       "      <th>50%</th>\n",
       "      <td>417.000000</td>\n",
       "    </tr>\n",
       "    <tr>\n",
       "      <th>60%</th>\n",
       "      <td>573.400000</td>\n",
       "    </tr>\n",
       "    <tr>\n",
       "      <th>70%</th>\n",
       "      <td>853.400000</td>\n",
       "    </tr>\n",
       "    <tr>\n",
       "      <th>80%</th>\n",
       "      <td>1163.400000</td>\n",
       "    </tr>\n",
       "    <tr>\n",
       "      <th>90%</th>\n",
       "      <td>1919.800000</td>\n",
       "    </tr>\n",
       "    <tr>\n",
       "      <th>100%</th>\n",
       "      <td>131825.000000</td>\n",
       "    </tr>\n",
       "    <tr>\n",
       "      <th>max</th>\n",
       "      <td>131825.000000</td>\n",
       "    </tr>\n",
       "  </tbody>\n",
       "</table>\n",
       "</div>"
      ],
      "text/plain": [
       "                test\n",
       "count    1845.000000\n",
       "mean     1364.484553\n",
       "std      8040.953852\n",
       "min         0.000000\n",
       "0%          0.000000\n",
       "10%        49.400000\n",
       "20%       104.000000\n",
       "30%       179.200000\n",
       "40%       276.600000\n",
       "50%       417.000000\n",
       "60%       573.400000\n",
       "70%       853.400000\n",
       "80%      1163.400000\n",
       "90%      1919.800000\n",
       "100%   131825.000000\n",
       "max    131825.000000"
      ]
     },
     "metadata": {},
     "output_type": "display_data"
    }
   ],
   "source": [
    "train_mask = []\n",
    "test_mask = []\n",
    "for v in save_data.values():\n",
    "    train_mask += v.train_mask\n",
    "    test_mask += v.test_mask\n",
    "\n",
    "display(pd.DataFrame(data=train_mask, columns=['train']).describe(percentiles=np.linspace(0,1,11)))\n",
    "display(pd.DataFrame(data=test_mask, columns=['test']).describe(percentiles=np.linspace(0,1,11)))"
   ]
  },
  {
   "cell_type": "code",
   "execution_count": null,
   "metadata": {},
   "outputs": [],
   "source": []
  }
 ],
 "metadata": {
  "kernelspec": {
   "display_name": "Python 3.6.12 64-bit",
   "language": "python",
   "name": "python3"
  },
  "language_info": {
   "codemirror_mode": {
    "name": "ipython",
    "version": 3
   },
   "file_extension": ".py",
   "mimetype": "text/x-python",
   "name": "python",
   "nbconvert_exporter": "python",
   "pygments_lexer": "ipython3",
   "version": "3.6.12"
  },
  "orig_nbformat": 4,
  "vscode": {
   "interpreter": {
    "hash": "31f2aee4e71d21fbe5cf8b01ff0e069b9275f58929596ceb00d14d90e3e16cd6"
   }
  }
 },
 "nbformat": 4,
 "nbformat_minor": 2
}
